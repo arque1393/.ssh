{
  "nbformat": 4,
  "nbformat_minor": 0,
  "metadata": {
    "colab": {
      "name": "NLP.ipynb",
      "provenance": [],
      "authorship_tag": "ABX9TyPuqs8+mfVrpllOIHl3+aMC",
      "include_colab_link": true
    },
    "kernelspec": {
      "name": "python3",
      "display_name": "Python 3"
    },
    "language_info": {
      "name": "python"
    }
  },
  "cells": [
    {
      "cell_type": "markdown",
      "metadata": {
        "id": "view-in-github",
        "colab_type": "text"
      },
      "source": [
        "<a href=\"https://colab.research.google.com/github/arque1393/.ssh/blob/main/NLP_with_SpaCy/NLP.ipynb\" target=\"_parent\"><img src=\"https://colab.research.google.com/assets/colab-badge.svg\" alt=\"Open In Colab\"/></a>"
      ]
    },
    {
      "cell_type": "markdown",
      "source": [
        "# Natural Language Processing with spaCy & Python - Course for Beginners\n",
        "course from Youtube | \n",
        "link : https://www.youtube.com/watch?v=dIUTsFT2MeQ"
      ],
      "metadata": {
        "id": "mi4eWpnnmWBt"
      }
    },
    {
      "cell_type": "markdown",
      "source": [
        "# Begine"
      ],
      "metadata": {
        "id": "zkv0NfMCmqps"
      }
    },
    {
      "cell_type": "code",
      "execution_count": 2,
      "metadata": {
        "colab": {
          "base_uri": "https://localhost:8080/"
        },
        "id": "P0ppGlIClx1O",
        "outputId": "0f5992ce-bc99-4476-946a-a71ded051165"
      },
      "outputs": [
        {
          "output_type": "stream",
          "name": "stdout",
          "text": [
            "Mounted at /content/drive\n"
          ]
        }
      ],
      "source": [
        "from google.colab import drive\n",
        "drive.mount('/content/drive')"
      ]
    },
    {
      "cell_type": "code",
      "source": [
        ""
      ],
      "metadata": {
        "id": "Bdb_2aebrA1-"
      },
      "execution_count": null,
      "outputs": []
    }
  ]
}